{
 "cells": [
  {
   "cell_type": "code",
   "execution_count": null,
   "id": "0e4d3c94",
   "metadata": {
    "vscode": {
     "languageId": "plaintext"
    }
   },
   "outputs": [],
   "source": [
    "# env.py\n",
    "import airsim\n",
    "import numpy as np\n",
    "import cv2\n",
    "\n",
    "class DroneEnv:\n",
    "    def __init__(self):\n",
    "        self.client = airsim.MultirotorClient()\n",
    "        self.client.confirmConnection()\n",
    "        self.client.enableApiControl(True)\n",
    "        self.client.armDisarm(True)\n",
    "        self.image_shape = (84, 84, 3)  # Resize shape\n",
    "\n",
    "    def reset(self):\n",
    "        self.client.reset()\n",
    "        self.client.enableApiControl(True)\n",
    "        self.client.armDisarm(True)\n",
    "        self.client.takeoffAsync().join()\n",
    "        return self.get_state()\n",
    "\n",
    "    def get_state(self):\n",
    "        responses = self.client.simGetImages([\n",
    "            airsim.ImageRequest(\"0\", airsim.ImageType.Scene, False, False)\n",
    "        ])\n",
    "        img1d = np.frombuffer(responses[0].image_data_uint8, dtype=np.uint8)\n",
    "        img = img1d.reshape(responses[0].height, responses[0].width, 3)\n",
    "        img = cv2.resize(img, (self.image_shape[1], self.image_shape[0])) / 255.0\n",
    "        return img\n",
    "\n",
    "    def step(self, action):\n",
    "        self.client.moveByAngleRatesThrottleAsync(\n",
    "            pitch_rate=action[0],\n",
    "            roll_rate=action[1],\n",
    "            yaw_rate=action[2],\n",
    "            throttle=action[3],\n",
    "            duration=0.05\n",
    "        ).join()\n",
    "\n",
    "        state = self.get_state()\n",
    "        collision = self.client.simGetCollisionInfo().has_collided\n",
    "        reward = -100 if collision else 1  # Basic survival reward\n",
    "        done = collision\n",
    "        return state, reward, done\n"
   ]
  }
 ],
 "metadata": {
  "language_info": {
   "name": "python"
  }
 },
 "nbformat": 4,
 "nbformat_minor": 5
}
