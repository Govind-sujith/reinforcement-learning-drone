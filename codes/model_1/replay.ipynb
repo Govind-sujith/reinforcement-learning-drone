{
 "cells": [
  {
   "cell_type": "code",
   "execution_count": null,
   "id": "33ef1f8c",
   "metadata": {
    "vscode": {
     "languageId": "plaintext"
    }
   },
   "outputs": [],
   "source": [
    "# replay_buffer.py\n",
    "import numpy as np\n",
    "\n",
    "class ReplayBuffer:\n",
    "    def __init__(self, max_size, img_shape, action_dim):\n",
    "        self.max_size = max_size\n",
    "        self.ptr = 0\n",
    "        self.size = 0\n",
    "\n",
    "        self.state = np.zeros((max_size, *img_shape), dtype=np.float32)\n",
    "        self.next_state = np.zeros((max_size, *img_shape), dtype=np.float32)\n",
    "        self.action = np.zeros((max_size, action_dim), dtype=np.float32)\n",
    "        self.reward = np.zeros((max_size, 1), dtype=np.float32)\n",
    "        self.done = np.zeros((max_size, 1), dtype=np.float32)\n",
    "\n",
    "    def add(self, state, action, reward, next_state, done):\n",
    "        self.state[self.ptr] = state\n",
    "        self.next_state[self.ptr] = next_state\n",
    "        self.action[self.ptr] = action\n",
    "        self.reward[self.ptr] = reward\n",
    "        self.done[self.ptr] = done\n",
    "\n",
    "        self.ptr = (self.ptr + 1) % self.max_size\n",
    "        self.size = min(self.size + 1, self.max_size)\n",
    "\n",
    "    def sample(self, batch_size):\n",
    "        ind = np.random.randint(0, self.size, size=batch_size)\n",
    "        return (\n",
    "            self.state[ind],\n",
    "            self.action[ind],\n",
    "            self.reward[ind],\n",
    "            self.next_state[ind],\n",
    "            self.done[ind]\n",
    "        )\n"
   ]
  }
 ],
 "metadata": {
  "language_info": {
   "name": "python"
  }
 },
 "nbformat": 4,
 "nbformat_minor": 5
}
