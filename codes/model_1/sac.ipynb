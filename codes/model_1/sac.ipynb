{
 "cells": [
  {
   "cell_type": "code",
   "execution_count": null,
   "id": "5d17a11f",
   "metadata": {
    "vscode": {
     "languageId": "plaintext"
    }
   },
   "outputs": [],
   "source": [
    "# models.py\n",
    "import torch\n",
    "import torch.nn as nn\n",
    "import torch.nn.functional as F\n",
    "\n",
    "class Actor(nn.Module):\n",
    "    def __init__(self, img_shape, action_dim):\n",
    "        super().__init__()\n",
    "        c, h, w = img_shape\n",
    "        self.cnn = nn.Sequential(\n",
    "            nn.Conv2d(c, 32, 3, stride=2), nn.ReLU(),\n",
    "            nn.Conv2d(32, 64, 3, stride=2), nn.ReLU(),\n",
    "            nn.Conv2d(64, 64, 3, stride=2), nn.ReLU(),\n",
    "            nn.Flatten()\n",
    "        )\n",
    "        # compute final feature size\n",
    "        dummy = torch.zeros(1, c, h, w)\n",
    "        n_flat = self.cnn(dummy).shape[1]\n",
    "        self.fc = nn.Sequential(\n",
    "            nn.Linear(n_flat, 256), nn.ReLU(),\n",
    "            nn.Linear(256, action_dim), nn.Tanh()  # action in [-1, 1]\n",
    "        )\n",
    "\n",
    "    def forward(self, x):\n",
    "        x = self.cnn(x)\n",
    "        return self.fc(x)\n",
    "\n",
    "class Critic(nn.Module):\n",
    "    def __init__(self, img_shape, action_dim):\n",
    "        super().__init__()\n",
    "        c, h, w = img_shape\n",
    "        self.cnn = nn.Sequential(\n",
    "            nn.Conv2d(c, 32, 3, stride=2), nn.ReLU(),\n",
    "            nn.Conv2d(32, 64, 3, stride=2), nn.ReLU(),\n",
    "            nn.Conv2d(64, 64, 3, stride=2), nn.ReLU(),\n",
    "            nn.Flatten()\n",
    "        )\n",
    "        dummy = torch.zeros(1, c, h, w)\n",
    "        n_flat = self.cnn(dummy).shape[1]\n",
    "        self.fc = nn.Sequential(\n",
    "            nn.Linear(n_flat + action_dim, 256), nn.ReLU(),\n",
    "            nn.Linear(256, 1)\n",
    "        )\n",
    "\n",
    "    def forward(self, x, a):\n",
    "        x = self.cnn(x)\n",
    "        x = torch.cat([x, a], dim=1)\n",
    "        return self.fc(x)\n"
   ]
  }
 ],
 "metadata": {
  "language_info": {
   "name": "python"
  }
 },
 "nbformat": 4,
 "nbformat_minor": 5
}
