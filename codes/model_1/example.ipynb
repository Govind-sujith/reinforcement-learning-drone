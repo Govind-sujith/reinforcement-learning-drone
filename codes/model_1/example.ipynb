{
 "cells": [
  {
   "cell_type": "code",
   "execution_count": null,
   "id": "84b41eb2",
   "metadata": {
    "vscode": {
     "languageId": "plaintext"
    }
   },
   "outputs": [],
   "source": [
    "import torch\n",
    "import torch.nn as nn\n",
    "\n",
    "# --- CNN Encoder ---\n",
    "class VisionEncoder(nn.Module):\n",
    "    def __init__(self):\n",
    "        super().__init__()\n",
    "        self.conv = nn.Sequential(\n",
    "            nn.Conv2d(3, 16, 5, stride=2), nn.ReLU(),\n",
    "            nn.Conv2d(16, 32, 5, stride=2), nn.ReLU(),\n",
    "            nn.Conv2d(32, 64, 5, stride=2), nn.ReLU(),\n",
    "            nn.Flatten()\n",
    "        )\n",
    "        self.fc = nn.Linear(64 * 10 * 10, 128)  # Adjust depending on input size\n",
    "\n",
    "    def forward(self, x):\n",
    "        x = self.conv(x)\n",
    "        x = self.fc(x)\n",
    "        return x\n",
    "\n",
    "# --- RL Policy ---\n",
    "class PolicyNet(nn.Module):\n",
    "    def __init__(self, state_dim=128, action_dim=4):\n",
    "        super().__init__()\n",
    "        self.net = nn.Sequential(\n",
    "            nn.Linear(state_dim, 256), nn.ReLU(),\n",
    "            nn.Linear(256, 128), nn.ReLU(),\n",
    "            nn.Linear(128, action_dim),\n",
    "            nn.Tanh()  # Actions in [-1, 1]\n",
    "        )\n",
    "    def forward(self, state):\n",
    "        return self.net(state)\n",
    "\n",
    "# --- Main Drone Controller Skeleton ---\n",
    "class DroneAgent:\n",
    "    def __init__(self):\n",
    "        self.encoder = VisionEncoder()\n",
    "        self.policy = PolicyNet()\n",
    "        # self.logic_plugin = ... (future)\n",
    "\n",
    "    def act(self, image_tensor):\n",
    "        state = self.encoder(image_tensor)\n",
    "        raw_action = self.policy(state)\n",
    "        # Optionally: raw_action = self.logic_plugin(raw_action)\n",
    "        return raw_action\n",
    "\n",
    "# --- Example usage in sim loop ---\n",
    "agent = DroneAgent()\n",
    "# image = get_image_from_airsim()  # (3, H, W) tensor\n",
    "# action = agent.act(image)\n",
    "# send_action_to_drone(action)\n"
   ]
  },
  {
   "cell_type": "code",
   "execution_count": null,
   "id": "453c08ee",
   "metadata": {
    "vscode": {
     "languageId": "plaintext"
    }
   },
   "outputs": [],
   "source": [
    "def logic_plugin(action, safety_data):\n",
    "    # E.g., if collision imminent, force throttle up\n",
    "    if safety_data[\"imminent_collision\"]:\n",
    "        action[3] = 1.0  # Max throttle\n",
    "    return action"
   ]
  }
 ],
 "metadata": {
  "language_info": {
   "name": "python"
  }
 },
 "nbformat": 4,
 "nbformat_minor": 5
}
